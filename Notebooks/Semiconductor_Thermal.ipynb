{
  "nbformat": 4,
  "nbformat_minor": 0,
  "metadata": {
    "colab": {
      "provenance": []
    },
    "kernelspec": {
      "name": "python3",
      "display_name": "Python 3"
    },
    "language_info": {
      "name": "python"
    }
  },
  "cells": [
    {
      "cell_type": "code",
      "execution_count": null,
      "metadata": {
        "id": "oyozcr0wxidj"
      },
      "outputs": [],
      "source": []
    },
    {
      "cell_type": "markdown",
      "source": [
        "Semiconductor Thermal Analysis with GaN Losses\n",
        "This notebook runs an IcePak thermal simulation using power loss data from a GaN transistor-based power converter."
      ],
      "metadata": {
        "id": "Iv5lHVryygnu"
      }
    },
    {
      "cell_type": "code",
      "source": [
        "import os\n",
        "import json\n",
        "import csv\n",
        "from ansys.aedt.core import Icepak\n",
        "import matplotlib.pyplot as plt\n",
        "import numpy as np"
      ],
      "metadata": {
        "id": "NyYfcd4kyld5"
      },
      "execution_count": null,
      "outputs": []
    },
    {
      "cell_type": "markdown",
      "source": [
        "\n",
        "## User Configuration\n",
        "# Modify these settings to match your project requirements\n",
        "\n"
      ],
      "metadata": {
        "id": "dX_se96NynpK"
      }
    },
    {
      "cell_type": "code",
      "source": [
        "# Set up your file paths\n",
        "project_folder = \"YOUR_PROJECT_FOLDER_PATH\"  # Directory where the project will be saved\n",
        "idf_file = \"YOUR_IDF_FILE_PATH\"              # Path to the IDF file\n",
        "bdf_file = \"YOUR_BDF_FILE_PATH\"              # Path to the BDF file\n",
        "edb_file = \"YOUR_EDB_FILE_PATH\"              # Path to the EDB file\n",
        "gan_losses_json = \"gan_losses.json\"          # Path to the GaN losses JSON file\n",
        "output_csv = \"thermal_results.csv\"           # Path to the output CSV file\n",
        "\n",
        "# AEDT configuration\n",
        "aedt_version = \"2024.2\"                      # AEDT version to use\n",
        "ng_mode = False"
      ],
      "metadata": {
        "id": "clD1RfUNywB1"
      },
      "execution_count": null,
      "outputs": []
    },
    {
      "cell_type": "code",
      "source": [
        "# Device designators for thermal simulation\n",
        "# Map the devices in your design to the devices in the GaN losses file\n",
        "device_mapping = {\n",
        "    \"Q1\": \"GaN_1\",  # Device designator in IcePak : Name to use in results\n",
        "    # Add more devices as needed\n",
        "    # \"Q2\": \"GaN_2\",\n",
        "}\n"
      ],
      "metadata": {
        "id": "81Qx-sbByzIm"
      },
      "execution_count": null,
      "outputs": []
    },
    {
      "cell_type": "code",
      "source": [
        "# Load the GaN losses data from JSON file\n",
        "def load_gan_losses(json_file):\n",
        "    try:\n",
        "        with open(json_file, 'r') as f:\n",
        "            gan_data = json.load(f)\n",
        "        print(\"Successfully loaded GaN losses data:\")\n",
        "        print(f\"- Operating conditions: Vin={gan_data['operating_conditions']['Vin']}V, \"\n",
        "              f\"Vout={gan_data['operating_conditions']['Vout']}V, \"\n",
        "              f\"Fsw={gan_data['operating_conditions']['Switching_frequency']/1000}kHz\")\n",
        "        print(f\"- Total loss: {gan_data['losses']['total_loss_W']}W\")\n",
        "        print(f\"- Efficiency: {gan_data['efficiency']['efficiency_percent']}%\")\n",
        "        return gan_data\n",
        "    except Exception as e:\n",
        "        print(f\"Error loading GaN losses data: {e}\")\n",
        "        return None\n",
        "\n",
        "# Load the GaN losses data\n",
        "gan_data = load_gan_losses(gan_losses_json)"
      ],
      "metadata": {
        "id": "dq9HBkfqy9D8"
      },
      "execution_count": null,
      "outputs": []
    },
    {
      "cell_type": "code",
      "source": [
        "# Create device losses dictionary for IcePak\n",
        "device_losses = {}\n",
        "if gan_data:\n",
        "    # For this example, we'll use the total loss from the GaN data for all devices\n",
        "    # You could also distribute different loss components to different devices\n",
        "    total_loss = gan_data['losses']['total_loss_W']\n",
        "\n",
        "    # Assign the same loss to all devices (modify as needed for your application)\n",
        "    for designator in device_mapping:\n",
        "        device_losses[designator] = f\"{total_loss}W\"\n",
        "\n",
        "    print(\"\\nDevice losses for thermal simulation:\")\n",
        "    for designator, loss in device_losses.items():\n",
        "        print(f\"- {designator}: {loss}\")\n"
      ],
      "metadata": {
        "id": "79j_g0joy9mB"
      },
      "execution_count": null,
      "outputs": []
    },
    {
      "cell_type": "markdown",
      "source": [
        "Define Core Thermal Simulation Function"
      ],
      "metadata": {
        "id": "uEtuGQSMzEoq"
      }
    },
    {
      "cell_type": "code",
      "source": [
        "def setup_solve_and_export_results(\n",
        "    project_folder, idf_file, bdf_file, edb_file, device_losses, output_csv, aedt_version=\"2024.2\", ng_mode=False\n",
        "):\n",
        "    \"\"\"\n",
        "    Sets up an IcePak simulation, assigns power losses to devices, solves the simulation, and exports results.\n",
        "\n",
        "    Parameters:\n",
        "    - project_folder (str): Directory where the project will be saved.\n",
        "    - idf_file (str): Path to the IDF file.\n",
        "    - bdf_file (str): Path to the BDF file.\n",
        "    - edb_file (str): Path to the EDB file.\n",
        "    - device_losses (dict): Dictionary of device designators and their power losses.\n",
        "                            Example: {\"Q1\": \"5W\", \"D1\": \"3W\"}\n",
        "    - output_csv (str): Path to the output CSV file.\n",
        "    - aedt_version (str): AEDT version to use. Default is \"2024.2\".\n",
        "    - ng_mode (bool): Non-graphical mode. Default is False.\n",
        "    \"\"\"\n",
        "    # Ensure the project folder exists\n",
        "    if not os.path.exists(project_folder):\n",
        "        os.makedirs(project_folder)\n",
        "\n",
        "    # Define the project path\n",
        "    project_path = os.path.join(project_folder, \"Icepak_Project.aedt\")\n",
        "\n",
        "    # Launch IcePak\n",
        "    ipk = Icepak(\n",
        "        project=project_path,\n",
        "        version=aedt_version,\n",
        "        new_desktop=True,\n",
        "        non_graphical=ng_mode,\n",
        "    )\n",
        "\n",
        "    try:\n",
        "        # Import IDF and BDF files\n",
        "        print(\"Importing IDF and BDF files...\")\n",
        "        ipk.import_idf(board_path=bdf_file)\n",
        "\n",
        "        # Save the project after IDF import\n",
        "        ipk.save_project()\n",
        "\n",
        "        # Import the EDB file using HFSS 3D Layout\n",
        "        print(\"Importing EDB file...\")\n",
        "        hfss3d_lo = ipk.create_3dlayout_project(edb_path=edb_file)\n",
        "        hfss3d_lo.save_project()\n",
        "\n",
        "        # Link EDB to IcePak\n",
        "        print(\"Linking EDB file to IcePak...\")\n",
        "        ipk.create_pcb_from_3dlayout(\n",
        "            component_name=\"PCB_pyAEDT\",\n",
        "            project_name=hfss3d_lo.project_file,\n",
        "            design_name=hfss3d_lo.design_name,\n",
        "            extent_type=\"Polygon\",\n",
        "            outline_polygon=\"poly_0\",\n",
        "            power_in=0,\n",
        "            close_linked_project_after_import=False,\n",
        "        )\n",
        "\n",
        "        # Assign power losses to specific devices and define monitor points\n",
        "        print(\"Assigning power losses and defining monitors...\")\n",
        "        monitors = []\n",
        "        for designator, power in device_losses.items():\n",
        "            device = ipk.modeler[designator]\n",
        "            if device:\n",
        "                # Assign power loss\n",
        "                ipk.create_source_block(object_name=designator, input_power=power)\n",
        "\n",
        "                # Automatically identify the top and bottom faces\n",
        "                faces = device.faces\n",
        "                top_face = max(faces, key=lambda f: f.center[2])  # Highest Z coordinate\n",
        "                bottom_face = min(faces, key=lambda f: f.center[2])  # Lowest Z coordinate\n",
        "\n",
        "                # Add monitors to the top and bottom faces\n",
        "                top_monitor = ipk.monitor.assign_face_monitor(\n",
        "                    face_id=top_face.id,\n",
        "                    monitor_quantity=\"Temperature\",\n",
        "                    monitor_name=f\"{designator}_Top_Monitor\",\n",
        "                )\n",
        "                bottom_monitor = ipk.monitor.assign_face_monitor(\n",
        "                    face_id=bottom_face.id,\n",
        "                    monitor_quantity=\"Temperature\",\n",
        "                    monitor_name=f\"{designator}_Bottom_Monitor\",\n",
        "                )\n",
        "                monitors.append({\n",
        "                    \"designator\": designator,\n",
        "                    \"device_name\": device_mapping.get(designator, designator),\n",
        "                    \"top\": top_monitor,\n",
        "                    \"bottom\": bottom_monitor\n",
        "                })\n",
        "            else:\n",
        "                print(f\"Warning: Device '{designator}' not found in the model.\")\n",
        "\n",
        "        # Setup the project for natural convection\n",
        "        print(\"Setting up the simulation...\")\n",
        "        setup = ipk.create_setup()\n",
        "        setup.props[\"Flow Regime\"] = \"Turbulent\"\n",
        "        setup.props[\"Ambient Temperature\"] = \"20cel\"  # Ambient temperature\n",
        "        setup.props[\"Convergence Criteria - Max Iterations\"] = 100\n",
        "        ipk.save_project()\n",
        "\n",
        "        # Solve the project\n",
        "        print(\"Solving the simulation...\")\n",
        "        ipk.analyze(setup=setup.name)\n",
        "\n",
        "        # Extract monitor temperatures\n",
        "        print(\"Extracting results...\")\n",
        "        results = []\n",
        "        for monitor in monitors:\n",
        "            top_temp = ipk.post.evaluate_monitor_quantity(monitor=monitor[\"top\"], quantity=\"Temperature\")[\"Mean\"]\n",
        "            bottom_temp = ipk.post.evaluate_monitor_quantity(monitor=monitor[\"bottom\"], quantity=\"Temperature\")[\"Mean\"]\n",
        "            power_loss = float(device_losses[monitor[\"designator\"]][:-1])  # Remove \"W\" from the power loss\n",
        "            temp_rise = top_temp - bottom_temp\n",
        "            psi = temp_rise / power_loss\n",
        "\n",
        "            results.append({\n",
        "                \"Device\": monitor[\"device_name\"],\n",
        "                \"Designator\": monitor[\"designator\"],\n",
        "                \"Power Loss (W)\": power_loss,\n",
        "                \"Top Temp (C)\": top_temp,\n",
        "                \"Bottom Temp (C)\": bottom_temp,\n",
        "                \"Temp Rise (C)\": temp_rise,\n",
        "                \"Psi (K/W)\": psi\n",
        "            })\n",
        "\n",
        "        # Save results to CSV\n",
        "        print(f\"Saving results to {output_csv}...\")\n",
        "        with open(output_csv, mode=\"w\", newline=\"\") as file:\n",
        "            writer = csv.DictWriter(file, fieldnames=[\n",
        "                \"Device\", \"Designator\", \"Power Loss (W)\",\n",
        "                \"Top Temp (C)\", \"Bottom Temp (C)\",\n",
        "                \"Temp Rise (C)\", \"Psi (K/W)\"\n",
        "            ])\n",
        "            writer.writeheader()\n",
        "            writer.writerows(results)\n",
        "\n",
        "        print(\"Simulation and results processing complete.\")\n",
        "        return results\n",
        "\n",
        "    except Exception as e:\n",
        "        print(f\"An error occurred: {e}\")\n",
        "        return None\n",
        "    finally:\n",
        "        # Release AEDT\n",
        "        ipk.release_desktop()\n",
        "        print(\"IcePak simulation setup complete.\")\n",
        "\n",
        "\n"
      ],
      "metadata": {
        "id": "O2UhElcqzGW1"
      },
      "execution_count": null,
      "outputs": []
    },
    {
      "cell_type": "code",
      "source": [
        "## Run Thermal Simulation\n",
        "\n",
        "# Check if we have all required paths and data before running\n",
        "if os.path.exists(project_folder) and os.path.exists(idf_file) and \\\n",
        "   os.path.exists(bdf_file) and os.path.exists(edb_file) and device_losses:\n",
        "\n",
        "    # Run the simulation\n",
        "    thermal_results = setup_solve_and_export_results(\n",
        "        project_folder, idf_file, bdf_file, edb_file,\n",
        "        device_losses, output_csv, aedt_version, ng_mode\n",
        "    )\n",
        "\n",
        "else:\n",
        "    print(\"Please check your file paths and make sure the GaN losses data is loaded correctly.\")\n",
        "    thermal_results = None"
      ],
      "metadata": {
        "id": "jecBw4rpzMxz"
      },
      "execution_count": null,
      "outputs": []
    },
    {
      "cell_type": "markdown",
      "source": [
        "Result Visualisation"
      ],
      "metadata": {
        "id": "8MND1veDzRiM"
      }
    },
    {
      "cell_type": "code",
      "source": [
        "def visualize_thermal_results(results, gan_data):\n",
        "    \"\"\"\n",
        "    Create visualizations of thermal simulation results.\n",
        "    \"\"\"\n",
        "    if not results or not gan_data:\n",
        "        print(\"No results to visualize.\")\n",
        "        return\n",
        "\n",
        "    # Create a figure with multiple subplots\n",
        "    fig = plt.figure(figsize=(15, 10))\n",
        "\n",
        "    # 1. Temperature bar chart\n",
        "    ax1 = fig.add_subplot(221)\n",
        "    devices = [r[\"Device\"] for r in results]\n",
        "    top_temps = [r[\"Top Temp (C)\"] for r in results]\n",
        "    bottom_temps = [r[\"Bottom Temp (C)\"] for r in results]\n",
        "\n",
        "    x = np.arange(len(devices))\n",
        "    width = 0.35\n",
        "\n",
        "    ax1.bar(x - width/2, top_temps, width, label='Top Temperature')\n",
        "    ax1.bar(x + width/2, bottom_temps, width, label='Bottom Temperature')\n",
        "\n",
        "    ax1.set_ylabel('Temperature (°C)')\n",
        "    ax1.set_title('Device Temperatures')\n",
        "    ax1.set_xticks(x)\n",
        "    ax1.set_xticklabels(devices)\n",
        "    ax1.legend()\n",
        "\n",
        "    # 2. Temperature rise bar chart\n",
        "    ax2 = fig.add_subplot(222)\n",
        "    temp_rises = [r[\"Temp Rise (C)\"] for r in results]\n",
        "\n",
        "    ax2.bar(devices, temp_rises, color='orange')\n",
        "    ax2.set_ylabel('Temperature Rise (°C)')\n",
        "    ax2.set_title('Device Temperature Rise')\n",
        "\n",
        "    # 3. Thermal resistance (Psi) bar chart\n",
        "    ax3 = fig.add_subplot(223)\n",
        "    psi_values = [r[\"Psi (K/W)\"] for r in results]\n",
        "\n",
        "    ax3.bar(devices, psi_values, color='green')\n",
        "    ax3.set_ylabel('Thermal Resistance (K/W)')\n",
        "    ax3.set_title('Device Thermal Resistance (Psi)')\n",
        "\n",
        "    # 4. Loss breakdown pie chart from GaN data\n",
        "    ax4 = fig.add_subplot(224)\n",
        "\n",
        "    labels = ['Turn-On Loss', 'Turn-Off Loss', 'Conduction Loss']\n",
        "    sizes = [\n",
        "        gan_data['losses']['turn_on_loss_W'],\n",
        "        gan_data['losses']['turn_off_loss_W'],\n",
        "        gan_data['losses']['conduction_loss_W']\n",
        "    ]\n",
        "    colors = ['#ff9999','#66b3ff','#99ff99']\n",
        "\n",
        "    ax4.pie(sizes, labels=labels, colors=colors, autopct='%1.1f%%', startangle=90)\n",
        "    ax4.axis('equal')\n",
        "    ax4.set_title('GaN Power Loss Distribution')\n",
        "\n",
        "    # Add some operating condition info as text\n",
        "    plt.figtext(0.5, 0.01,\n",
        "                f\"Operating Conditions: Vin={gan_data['operating_conditions']['Vin']}V, \"\n",
        "                f\"Vout={gan_data['operating_conditions']['Vout']}V, \"\n",
        "                f\"Fsw={gan_data['operating_conditions']['Switching_frequency']/1000}kHz, \"\n",
        "                f\"Efficiency={gan_data['efficiency']['efficiency_percent']}%\",\n",
        "                ha=\"center\", fontsize=10, bbox={\"facecolor\":\"orange\", \"alpha\":0.1, \"pad\":5})\n",
        "\n",
        "    plt.tight_layout(rect=[0, 0.05, 1, 0.95])\n",
        "    plt.savefig('thermal_results_visualization.png')\n",
        "    plt.show()\n",
        "\n",
        "# Visualize results if we have them\n",
        "if thermal_results and gan_data:\n",
        "    visualize_thermal_results(thermal_results, gan_data)\n",
        "    print(f\"Visualization saved to 'thermal_results_visualization.png'\")"
      ],
      "metadata": {
        "id": "7GZmwryfzOQ9"
      },
      "execution_count": null,
      "outputs": []
    },
    {
      "cell_type": "code",
      "source": [],
      "metadata": {
        "id": "GNN9lLuYzUsH"
      },
      "execution_count": null,
      "outputs": []
    }
  ]
}