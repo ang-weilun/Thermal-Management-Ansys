{
  "nbformat": 4,
  "nbformat_minor": 0,
  "metadata": {
    "colab": {
      "provenance": []
    },
    "kernelspec": {
      "name": "python3",
      "display_name": "Python 3"
    },
    "language_info": {
      "name": "python"
    }
  },
  "cells": [
    {
      "cell_type": "markdown",
      "source": [
        "PCB Thermal Analysis using AEDT and Q3D"
      ],
      "metadata": {
        "id": "ELnkslpp0QGY"
      }
    },
    {
      "cell_type": "code",
      "execution_count": null,
      "metadata": {
        "id": "MhPCEZjqztNe"
      },
      "outputs": [],
      "source": [
        "import os\n",
        "import json\n",
        "import pandas as pd\n",
        "from pyaedt import Q3d, Edb"
      ]
    },
    {
      "cell_type": "markdown",
      "source": [
        "\n",
        "# Configure the simulation parameters in this cell\n"
      ],
      "metadata": {
        "id": "OfyDSERt0VAP"
      }
    },
    {
      "cell_type": "code",
      "source": [
        "\n",
        "# AEDT Version and Processing Configuration\n",
        "AEDT_VERSION = \"2024.2\"\n",
        "NUM_CORES = 4\n",
        "NG_MODE = False\n",
        "\n",
        "# Project Paths\n",
        "project_folder = \"C:/Your/Project/Folder\"  # Update this path\n",
        "edb_file = \"C:/Path/To/Your/PCB.aedt\"      # Update this path\n",
        "json_file = \"C:/Path/To/buck_converter_harmonics.json\"  # Update this path\n",
        "\n",
        "# Component and Net Configuration\n",
        "hs_switch = \"Q1\"     # High-side switch designator\n",
        "ls_switch = \"Q2\"     # Low-side switch designator\n",
        "net_vin = \"VIN\"      # Net name for input voltage\n",
        "net_gnd = \"GND\"      # Net name for ground\n",
        "net_sw = \"SW\"        # Net name for switch node\n"
      ],
      "metadata": {
        "id": "Klkwt1QC0SGO"
      },
      "execution_count": 1,
      "outputs": []
    },
    {
      "cell_type": "code",
      "source": [
        "# Load Harmonic Data from JSON\n",
        "# This cell loads the harmonic data from the JSON file\n",
        "\n",
        "\n",
        "def load_harmonic_data(json_file):\n",
        "    \"\"\"Load and process harmonic data from JSON file\"\"\"\n",
        "    with open(json_file, 'r') as f:\n",
        "        data = json.load(f)\n",
        "\n",
        "    # Extract switch and diode currents from harmonics section\n",
        "    switch_harmonics = data['harmonics']['switch_current']\n",
        "    diode_harmonics = data['harmonics']['diode_current']\n",
        "\n",
        "    # Create a dataframe for the harmonics\n",
        "    harmonic_data = []\n",
        "    for i in range(min(len(switch_harmonics), len(diode_harmonics))):\n",
        "        harmonic_data.append({\n",
        "            \"Frequency\": switch_harmonics[i]['frequency_khz'] * 1000,  # Convert to Hz\n",
        "            \"High Side Current\": switch_harmonics[i]['magnitude'],\n",
        "            \"Low Side Current\": diode_harmonics[i]['magnitude']\n",
        "        })\n",
        "\n",
        "    return pd.DataFrame(harmonic_data)\n",
        "\n",
        "# Load the harmonic data\n",
        "harmonic_data = load_harmonic_data(json_file)\n",
        "print(\"Harmonic data loaded successfully:\")\n",
        "display(harmonic_data.head())"
      ],
      "metadata": {
        "id": "PvKrOf-b0c8r"
      },
      "execution_count": null,
      "outputs": []
    },
    {
      "cell_type": "markdown",
      "source": [
        "# Open EDB Project and Identify Pins\n",
        "# This cell opens the EDB project and identifies the relevant component pins"
      ],
      "metadata": {
        "id": "9ZoHj4G40g1c"
      }
    },
    {
      "cell_type": "code",
      "source": [
        "def identify_pins(edb_file, hs_switch, ls_switch, net_vin, net_gnd, net_sw):\n",
        "    \"\"\"Open EDB project and identify component pins\"\"\"\n",
        "    edb = Edb(edb_file, edbversion=AEDT_VERSION)\n",
        "    print(f\"Opened EDB file: {edb_file}\")\n",
        "\n",
        "    # Define function to find pins\n",
        "    def find_pin(component, net_name):\n",
        "        return [\n",
        "            pin for pin in edb.components[component].pins.values()\n",
        "            if pin.net_name == net_name\n",
        "        ][0]\n",
        "\n",
        "    # Identify pins\n",
        "    hs_pin = find_pin(hs_switch, net_sw)\n",
        "    ls_pin = find_pin(ls_switch, net_sw)\n",
        "    vin_pin = find_pin(hs_switch, net_vin)\n",
        "    gnd_pin = find_pin(hs_switch, net_gnd)\n",
        "\n",
        "    print(f\"HS Switch Pin: {hs_pin.position}\")\n",
        "    print(f\"LS Switch Pin: {ls_pin.position}\")\n",
        "    print(f\"Vin Pin: {vin_pin.position}\")\n",
        "    print(f\"GND Pin: {gnd_pin.position}\")\n",
        "\n",
        "    # Close EDB after pin identification\n",
        "    edb.save_edb()\n",
        "    edb.close_edb()\n",
        "\n",
        "    return hs_pin, ls_pin, vin_pin, gnd_pin\n",
        "\n",
        "# Identify pins from EDB file\n",
        "hs_pin, ls_pin, vin_pin, gnd_pin = identify_pins(\n",
        "    edb_file, hs_switch, ls_switch, net_vin, net_gnd, net_sw\n",
        ")"
      ],
      "metadata": {
        "id": "aXZEIy1Q0fV9"
      },
      "execution_count": null,
      "outputs": []
    },
    {
      "cell_type": "code",
      "source": [
        "# This cell runs the Q3D analysis for each harmonic frequency\n",
        "\n",
        "# %%\n",
        "def run_q3d_analysis(project_folder, harmonic_data, hs_pin, ls_pin, net_vin, net_gnd):\n",
        "    \"\"\"Run Q3D simulation for each harmonic frequency\"\"\"\n",
        "    # Open Q3D\n",
        "    q3d_project_path = os.path.join(project_folder, \"Exported_Q3D.aedt\")\n",
        "    q3d = Q3d(q3d_project_path, version=AEDT_VERSION)\n",
        "    print(\"Q3D project loaded successfully.\")\n",
        "\n",
        "    # Results container\n",
        "    results = []\n",
        "\n",
        "    # Iterate over frequencies\n",
        "    for _, row in harmonic_data.iterrows():\n",
        "        freq = row[\"Frequency\"]\n",
        "        hs_current = row[\"High Side Current\"]\n",
        "        ls_current = row[\"Low Side Current\"]\n",
        "\n",
        "        print(f\"Running analysis for frequency: {freq} Hz\")\n",
        "\n",
        "        # Set source currents\n",
        "        q3d.create_source(hs_pin.position, net_name=net_vin, current=f\"{hs_current}A\")\n",
        "        q3d.create_sink(ls_pin.position, net_name=net_gnd, current=f\"{ls_current}A\")\n",
        "\n",
        "        # Update frequency and analyze\n",
        "        setup = q3d.create_setup()\n",
        "        setup.props[\"SaveFields\"] = True\n",
        "        setup.analyze()\n",
        "\n",
        "        # Extract temperatures at pin positions\n",
        "        hs_temp = q3d.post.get_value_at_location(hs_pin.position, \"Temperature\", setup.name)\n",
        "        ls_temp = q3d.post.get_value_at_location(ls_pin.position, \"Temperature\", setup.name)\n",
        "\n",
        "        results.append({\n",
        "            \"Frequency (Hz)\": freq,\n",
        "            \"HS Temp (C)\": hs_temp,\n",
        "            \"LS Temp (C)\": ls_temp,\n",
        "        })\n",
        "\n",
        "    # Release Q3D\n",
        "    q3d.release_desktop()\n",
        "    print(\"Q3D analysis complete and desktop released.\")\n",
        "\n",
        "    return results\n",
        "\n",
        "# Run Q3D analysis\n",
        "results = run_q3d_analysis(\n",
        "    project_folder, harmonic_data, hs_pin, ls_pin, net_vin, net_gnd\n",
        ")"
      ],
      "metadata": {
        "id": "R8CAToEg0lZw"
      },
      "execution_count": null,
      "outputs": []
    },
    {
      "cell_type": "code",
      "source": [
        "# This cell saves the results to a CSV file and creates visualizations\n",
        "\n",
        "# %%\n",
        "def save_and_visualize_results(project_folder, results):\n",
        "    \"\"\"Save results to CSV and create visualizations\"\"\"\n",
        "    # Convert results to DataFrame\n",
        "    results_df = pd.DataFrame(results)\n",
        "\n",
        "    # Save results to CSV\n",
        "    output_csv = os.path.join(project_folder, \"DCIR_Temperature_Results.csv\")\n",
        "    results_df.to_csv(output_csv, index=False)\n",
        "    print(f\"Results saved to: {output_csv}\")\n",
        "\n",
        "    # Display results\n",
        "    display(results_df)\n",
        "\n",
        "    # Create visualizations\n",
        "    import matplotlib.pyplot as plt\n",
        "\n",
        "    plt.figure(figsize=(12, 6))\n",
        "    plt.plot(results_df[\"Frequency (Hz)\"]/1000, results_df[\"HS Temp (C)\"], 'r-o', label=\"High-Side Switch\")\n",
        "    plt.plot(results_df[\"Frequency (Hz)\"]/1000, results_df[\"LS Temp (C)\"], 'b-s', label=\"Low-Side Switch\")\n",
        "    plt.xlabel(\"Frequency (kHz)\")\n",
        "    plt.ylabel(\"Temperature (°C)\")\n",
        "    plt.title(\"Switch Temperature vs. Frequency\")\n",
        "    plt.legend()\n",
        "    plt.grid(True)\n",
        "    plt.tight_layout()\n",
        "    plt.show()\n",
        "\n",
        "# Save and visualize results\n",
        "save_and_visualize_results(project_folder, results)"
      ],
      "metadata": {
        "id": "vsU1vyJw0qVr"
      },
      "execution_count": null,
      "outputs": []
    },
    {
      "cell_type": "code",
      "source": [
        "def run_complete_workflow():\n",
        "    \"\"\"Run the complete workflow from loading data to saving results\"\"\"\n",
        "    # 1. Load harmonic data\n",
        "    harmonic_data = load_harmonic_data(json_file)\n",
        "    print(\"Harmonic data loaded successfully.\")\n",
        "\n",
        "    # 2. Identify pins from EDB\n",
        "    hs_pin, ls_pin, vin_pin, gnd_pin = identify_pins(\n",
        "        edb_file, hs_switch, ls_switch, net_vin, net_gnd, net_sw\n",
        "    )\n",
        "\n",
        "    # 3. Run Q3D analysis\n",
        "    results = run_q3d_analysis(\n",
        "        project_folder, harmonic_data, hs_pin, ls_pin, net_vin, net_gnd\n",
        "    )\n",
        "\n",
        "    # 4. Save and visualize results\n",
        "    save_and_visualize_results(project_folder, results)\n",
        "\n",
        "    print(\"Complete workflow executed successfully.\")\n",
        "\n",
        "# Uncomment the following line to run the complete workflow\n",
        "# run_complete_workflow()"
      ],
      "metadata": {
        "id": "WVx275BJ0suX"
      },
      "execution_count": null,
      "outputs": []
    }
  ]
}